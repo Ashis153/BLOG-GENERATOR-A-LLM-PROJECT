{
 "cells": [
  {
   "cell_type": "code",
   "execution_count": 1,
   "id": "60816c63",
   "metadata": {},
   "outputs": [],
   "source": [
    "import matplotlib.pyplot as plt\n",
    "import seaborn as sns\n",
    "from keras.models import Sequential\n",
    "from keras.layers import Dense, Conv2D , MaxPool2D , Flatten , Dropout , BatchNormalization\n",
    "from keras.preprocessing.image import ImageDataGenerator\n",
    "from sklearn.model_selection import train_test_split\n",
    "from sklearn.metrics import classification_report,confusion_matrix\n",
    "import pandas as pd"
   ]
  },
  {
   "cell_type": "code",
   "execution_count": 3,
   "id": "fa7e46b2",
   "metadata": {},
   "outputs": [],
   "source": [
    "train_df = pd.read_csv(\"sign_mnist_train[1].csv\")\n",
    "test_df = pd.read_csv(\"sign_mnist_test[1].csv\")\n",
    "\n",
    "y_train = train_df['label']\n",
    "y_test = test_df['label']\n",
    "del train_df['label']\n",
    "del test_df['label']"
   ]
  },
  {
   "cell_type": "code",
   "execution_count": 4,
   "id": "a8f8862e",
   "metadata": {},
   "outputs": [],
   "source": [
    "from sklearn.preprocessing import LabelBinarizer\n",
    "label_binarizer = LabelBinarizer()\n",
    "y_train = label_binarizer.fit_transform(y_train)\n",
    "y_test = label_binarizer.fit_transform(y_test)"
   ]
  },
  {
   "cell_type": "code",
   "execution_count": 5,
   "id": "a012db8d",
   "metadata": {},
   "outputs": [],
   "source": [
    "\n",
    "x_train = train_df.values\n",
    "x_test = test_df.values\n",
    "\n",
    "x_train = x_train / 255\n",
    "x_test = x_test / 255\n",
    "\n",
    "x_train = x_train.reshape(-1,28,28,1)\n",
    "x_test = x_test.reshape(-1,28,28,1)"
   ]
  },
  {
   "cell_type": "code",
   "execution_count": 6,
   "id": "34bb17c3",
   "metadata": {},
   "outputs": [],
   "source": [
    "datagen = ImageDataGenerator(\n",
    "        featurewise_center=False,\n",
    "        samplewise_center=False, \n",
    "        featurewise_std_normalization=False,\n",
    "        samplewise_std_normalization=False,\n",
    "        zca_whitening=False,\n",
    "        rotation_range=10,\n",
    "        zoom_range = 0.1, \n",
    "        width_shift_range=0.1,\n",
    "        height_shift_range=0.1,\n",
    "        horizontal_flip=False,\n",
    "        vertical_flip=False)\n",
    "\n",
    "datagen.fit(x_train)"
   ]
  },
  {
   "cell_type": "code",
   "execution_count": 8,
   "id": "cfefe23d",
   "metadata": {},
   "outputs": [],
   "source": [
    "\n",
    "model = Sequential()\n",
    "model.add(Conv2D(75 , (3,3) , strides = 1 , padding = 'same' , activation = 'relu' , input_shape = (28,28,1)))\n",
    "model.add(BatchNormalization())\n",
    "model.add(MaxPool2D((2,2) , strides = 2 , padding = 'same'))\n",
    "model.add(Conv2D(50 , (3,3) , strides = 1 , padding = 'same' , activation = 'relu'))\n",
    "model.add(Dropout(0.2))\n",
    "model.add(BatchNormalization())\n",
    "model.add(MaxPool2D((2,2) , strides = 2 , padding = 'same'))\n",
    "model.add(Conv2D(25 , (3,3) , strides = 1 , padding = 'same' , activation = 'relu'))\n",
    "model.add(BatchNormalization())\n",
    "model.add(MaxPool2D((2,2) , strides = 2 , padding = 'same'))\n",
    "model.add(Flatten())\n",
    "model.add(Dense(units = 512 , activation = 'relu'))\n",
    "model.add(Dropout(0.3))\n",
    "model.add(Dense(units = 24 , activation = 'softmax'))"
   ]
  },
  {
   "cell_type": "code",
   "execution_count": 9,
   "id": "8b72e1ac",
   "metadata": {
    "scrolled": false
   },
   "outputs": [
    {
     "name": "stdout",
     "output_type": "stream",
     "text": [
      "Model: \"sequential\"\n",
      "_________________________________________________________________\n",
      " Layer (type)                Output Shape              Param #   \n",
      "=================================================================\n",
      " conv2d (Conv2D)             (None, 28, 28, 75)        750       \n",
      "                                                                 \n",
      " batch_normalization (Batch  (None, 28, 28, 75)        300       \n",
      " Normalization)                                                  \n",
      "                                                                 \n",
      " max_pooling2d (MaxPooling2  (None, 14, 14, 75)        0         \n",
      " D)                                                              \n",
      "                                                                 \n",
      " conv2d_1 (Conv2D)           (None, 14, 14, 50)        33800     \n",
      "                                                                 \n",
      " dropout (Dropout)           (None, 14, 14, 50)        0         \n",
      "                                                                 \n",
      " batch_normalization_1 (Bat  (None, 14, 14, 50)        200       \n",
      " chNormalization)                                                \n",
      "                                                                 \n",
      " max_pooling2d_1 (MaxPoolin  (None, 7, 7, 50)          0         \n",
      " g2D)                                                            \n",
      "                                                                 \n",
      " conv2d_2 (Conv2D)           (None, 7, 7, 25)          11275     \n",
      "                                                                 \n",
      " batch_normalization_2 (Bat  (None, 7, 7, 25)          100       \n",
      " chNormalization)                                                \n",
      "                                                                 \n",
      " max_pooling2d_2 (MaxPoolin  (None, 4, 4, 25)          0         \n",
      " g2D)                                                            \n",
      "                                                                 \n",
      " flatten (Flatten)           (None, 400)               0         \n",
      "                                                                 \n",
      " dense (Dense)               (None, 512)               205312    \n",
      "                                                                 \n",
      " dropout_1 (Dropout)         (None, 512)               0         \n",
      "                                                                 \n",
      " dense_1 (Dense)             (None, 24)                12312     \n",
      "                                                                 \n",
      "=================================================================\n",
      "Total params: 264049 (1.01 MB)\n",
      "Trainable params: 263749 (1.01 MB)\n",
      "Non-trainable params: 300 (1.17 KB)\n",
      "_________________________________________________________________\n",
      "Epoch 1/20\n",
      "215/215 [==============================] - 79s 349ms/step - loss: 1.1118 - accuracy: 0.6527 - val_loss: 3.7769 - val_accuracy: 0.1062\n",
      "Epoch 2/20\n",
      "215/215 [==============================] - 69s 318ms/step - loss: 0.2272 - accuracy: 0.9236 - val_loss: 1.3742 - val_accuracy: 0.5353\n",
      "Epoch 3/20\n",
      "215/215 [==============================] - 72s 334ms/step - loss: 0.1039 - accuracy: 0.9664 - val_loss: 0.0908 - val_accuracy: 0.9748\n",
      "Epoch 4/20\n",
      "215/215 [==============================] - 73s 340ms/step - loss: 0.0623 - accuracy: 0.9813 - val_loss: 0.0290 - val_accuracy: 0.9941\n",
      "Epoch 5/20\n",
      "215/215 [==============================] - 71s 330ms/step - loss: 0.0474 - accuracy: 0.9841 - val_loss: 0.0323 - val_accuracy: 0.9918\n",
      "Epoch 6/20\n",
      "215/215 [==============================] - 70s 325ms/step - loss: 0.0383 - accuracy: 0.9881 - val_loss: 0.0240 - val_accuracy: 0.9941\n",
      "Epoch 7/20\n",
      "215/215 [==============================] - 70s 325ms/step - loss: 0.0333 - accuracy: 0.9887 - val_loss: 0.0559 - val_accuracy: 0.9816\n",
      "Epoch 8/20\n",
      "215/215 [==============================] - 295s 1s/step - loss: 0.0287 - accuracy: 0.9908 - val_loss: 0.0323 - val_accuracy: 0.9869\n",
      "Epoch 9/20\n",
      "215/215 [==============================] - 69s 320ms/step - loss: 0.0277 - accuracy: 0.9910 - val_loss: 0.0157 - val_accuracy: 0.9954\n",
      "Epoch 10/20\n",
      "215/215 [==============================] - 69s 322ms/step - loss: 0.0209 - accuracy: 0.9932 - val_loss: 0.0260 - val_accuracy: 0.9921\n",
      "Epoch 11/20\n",
      "215/215 [==============================] - 70s 326ms/step - loss: 0.0180 - accuracy: 0.9945 - val_loss: 0.0094 - val_accuracy: 0.9989\n",
      "Epoch 12/20\n",
      "215/215 [==============================] - 70s 323ms/step - loss: 0.0200 - accuracy: 0.9935 - val_loss: 0.0168 - val_accuracy: 0.9950\n",
      "Epoch 13/20\n",
      "215/215 [==============================] - 70s 326ms/step - loss: 0.0197 - accuracy: 0.9934 - val_loss: 0.1633 - val_accuracy: 0.9435\n",
      "Epoch 14/20\n",
      "215/215 [==============================] - 70s 326ms/step - loss: 0.0174 - accuracy: 0.9938 - val_loss: 0.1193 - val_accuracy: 0.9587\n",
      "Epoch 15/20\n",
      "215/215 [==============================] - 77s 357ms/step - loss: 0.0240 - accuracy: 0.9922 - val_loss: 0.0787 - val_accuracy: 0.9697\n",
      "Epoch 16/20\n",
      "215/215 [==============================] - 71s 329ms/step - loss: 0.0155 - accuracy: 0.9950 - val_loss: 0.0324 - val_accuracy: 0.9851\n",
      "Epoch 17/20\n",
      "215/215 [==============================] - 71s 328ms/step - loss: 0.0177 - accuracy: 0.9942 - val_loss: 0.3800 - val_accuracy: 0.9013\n",
      "Epoch 18/20\n",
      "215/215 [==============================] - 71s 330ms/step - loss: 0.0167 - accuracy: 0.9941 - val_loss: 0.0300 - val_accuracy: 0.9876\n",
      "Epoch 19/20\n",
      "215/215 [==============================] - 70s 324ms/step - loss: 0.0150 - accuracy: 0.9956 - val_loss: 0.1425 - val_accuracy: 0.9541\n",
      "Epoch 20/20\n",
      "215/215 [==============================] - 69s 323ms/step - loss: 0.0172 - accuracy: 0.9941 - val_loss: 0.0204 - val_accuracy: 0.9933\n"
     ]
    },
    {
     "name": "stderr",
     "output_type": "stream",
     "text": [
      "C:\\Users\\ashis\\anaconda3\\null\\lib\\site-packages\\keras\\src\\engine\\training.py:3079: UserWarning: You are saving your model as an HDF5 file via `model.save()`. This file format is considered legacy. We recommend using instead the native Keras format, e.g. `model.save('my_model.keras')`.\n",
      "  saving_api.save_model(\n"
     ]
    }
   ],
   "source": [
    "model.compile(optimizer = 'adam' , loss = 'categorical_crossentropy' , metrics = ['accuracy'])\n",
    "model.summary()\n",
    "\n",
    "history = model.fit(datagen.flow(x_train,y_train, batch_size = 128) ,epochs = 20 , validation_data = (x_test, y_test))\n",
    "\n",
    "model.save('smnist.h5')"
   ]
  },
  {
   "cell_type": "code",
   "execution_count": null,
   "id": "3e813701",
   "metadata": {},
   "outputs": [],
   "source": []
  }
 ],
 "metadata": {
  "kernelspec": {
   "display_name": "Python 3 (ipykernel)",
   "language": "python",
   "name": "python3"
  },
  "language_info": {
   "codemirror_mode": {
    "name": "ipython",
    "version": 3
   },
   "file_extension": ".py",
   "mimetype": "text/x-python",
   "name": "python",
   "nbconvert_exporter": "python",
   "pygments_lexer": "ipython3",
   "version": "3.10.9"
  }
 },
 "nbformat": 4,
 "nbformat_minor": 5
}
